{
 "cells": [
  {
   "cell_type": "code",
   "execution_count": null,
   "id": "4040f058-d792-46b9-9fac-73e25f8a50e4",
   "metadata": {},
   "outputs": [],
   "source": [
    "text = \"This was a masterpiece. Not completely faithful to the books, but enthralling from beginning to end. Might be my favorite of the three.\"\n"
   ]
  },
  {
   "cell_type": "code",
   "execution_count": null,
   "id": "bd7e8b21-5174-4ab2-8328-d4d232f8a181",
   "metadata": {},
   "outputs": [],
   "source": [
    "import torch\n",
    "print(torch.cuda.is_available())  # 应该输出True如果CUDA可用"
   ]
  },
  {
   "cell_type": "code",
   "execution_count": null,
   "id": "46f56865-63d6-4382-9296-3f0db1788198",
   "metadata": {},
   "outputs": [],
   "source": [
    "from transformers import pipeline\n",
    "\n",
    "classifier = pipeline(\"sentiment-analysis\", model=\"/home/xwang/.local/my_awesome_model/checkpoint-6250\", device = (\"cuda:0\"))\n",
    "classifier(text)"
   ]
  },
  {
   "cell_type": "markdown",
   "id": "947ad089-6d82-4e77-8433-e1b4550c265f",
   "metadata": {},
   "source": [
    "[{'label': 'POSITIVE', 'score': 0.9988396763801575}]"
   ]
  }
 ],
 "metadata": {
  "kernelspec": {
   "display_name": "Python 3 (ipykernel)",
   "language": "python",
   "name": "python3"
  },
  "language_info": {
   "codemirror_mode": {
    "name": "ipython",
    "version": 3
   },
   "file_extension": ".py",
   "mimetype": "text/x-python",
   "name": "python",
   "nbconvert_exporter": "python",
   "pygments_lexer": "ipython3",
   "version": "3.11.7"
  }
 },
 "nbformat": 4,
 "nbformat_minor": 5
}
